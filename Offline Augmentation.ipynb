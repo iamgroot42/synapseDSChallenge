{
 "cells": [
  {
   "cell_type": "code",
   "execution_count": 1,
   "metadata": {},
   "outputs": [],
   "source": [
    "import numpy as np\n",
    "import albumentations as A\n",
    "\n",
    "from PIL import Image\n",
    "import cv2\n",
    "from tqdm import tqdm"
   ]
  },
  {
   "cell_type": "code",
   "execution_count": 2,
   "metadata": {},
   "outputs": [],
   "source": [
    "def read_csv_file(fp):\n",
    "    with open(fp, 'r') as f:\n",
    "        names, types, colors = [], [], []\n",
    "        for i, line in enumerate(f):\n",
    "            if i:\n",
    "                line = line.rstrip().split('\\t')\n",
    "                imgname, category, color = line[0], line[1], line[2]\n",
    "                names.append(imgname)\n",
    "                types.append(category)\n",
    "                colors.append(color)\n",
    "    return names, types, colors"
   ]
  },
  {
   "cell_type": "code",
   "execution_count": 3,
   "metadata": {},
   "outputs": [],
   "source": [
    "def common_augs():\n",
    "    augs = []\n",
    "    augs.append(A.VerticalFlip(p=1))\n",
    "    augs.append(A.HorizontalFlip(p=1))\n",
    "    augs.append(A.Rotate(limit=45,p=1))\n",
    "    augs.append(A.ShiftScaleRotate(p=1))\n",
    "    augs.append(A.RandomScale(p=1))\n",
    "    augs.append(A.RandomSnow(p=1))\n",
    "    augs.append(A.RandomRain(p=1))\n",
    "    return augs"
   ]
  },
  {
   "cell_type": "code",
   "execution_count": 4,
   "metadata": {},
   "outputs": [],
   "source": [
    "def color_augs():\n",
    "    augs = []\n",
    "    augs.append(A.OpticalDistortion(p=1))\n",
    "    augs.append(A.GridDistortion(p=1))\n",
    "    augs.append(A.ElasticTransform(p=1))\n",
    "    augs.append(A.MotionBlur(p=1))\n",
    "    augs.append(A.MedianBlur(p=1))\n",
    "    augs.append(A.GaussianBlur(p=1))\n",
    "    return augs"
   ]
  },
  {
   "cell_type": "code",
   "execution_count": 5,
   "metadata": {},
   "outputs": [],
   "source": [
    "def dress_augs():\n",
    "    augs = []\n",
    "    augs.append(A.HueSaturationValue(hue_shift_limit=20, sat_shift_limit=50, val_shift_limit=50, p=1))\n",
    "    augs.append(A.RandomBrightness(p=1))\n",
    "    augs.append(A.RandomContrast(p=1))\n",
    "    augs.append(A.RandomBrightness(p=1))\n",
    "    augs.append(A.ToGray(p=1))\n",
    "    augs.append(A.RandomGamma(p=1))\n",
    "    augs.append(A.CLAHE(p=1))\n",
    "    augs.append(A.ChannelShuffle(p=1))\n",
    "    return augs"
   ]
  },
  {
   "cell_type": "code",
   "execution_count": 6,
   "metadata": {},
   "outputs": [],
   "source": [
    "def random_combinations(img, augs, n_times=6, how_many=5):\n",
    "    augmented = []\n",
    "    for _ in range(n_times):\n",
    "        np.random.shuffle(augs)\n",
    "        aug = A.Compose(augs[:how_many], p=1)\n",
    "        augmented.append(aug(image=img)['image'])\n",
    "    return augmented"
   ]
  },
  {
   "cell_type": "code",
   "execution_count": 7,
   "metadata": {},
   "outputs": [],
   "source": [
    "color = color_augs() + common_augs()\n",
    "dress = dress_augs() + common_augs()"
   ]
  },
  {
   "cell_type": "code",
   "execution_count": 8,
   "metadata": {},
   "outputs": [],
   "source": [
    "names, types, colors = read_csv_file(\"./data/train.tsv\")"
   ]
  },
  {
   "cell_type": "code",
   "execution_count": 9,
   "metadata": {},
   "outputs": [],
   "source": [
    "def populate(prefix, names, labels, augs):\n",
    "    for i, name in tqdm(enumerate(names)):\n",
    "        try:\n",
    "            img = cv2.imread(\"./data/images/\" + name)\n",
    "            X = random_combinations(img, augs)\n",
    "            # Write original image\n",
    "            cv2.imwrite(\"./data/\" + prefix + \"/\" + labels[i] + \"/\" + name + \"_0.png\", img)\n",
    "            # Write augmented copies\n",
    "            for j, x in enumerate(X):\n",
    "                cv2.imwrite(\"./data/\" + prefix + \"/\" + labels[i] + \"/\" + name + \"_\" + str(j + 1) + \".png\", x)\n",
    "        except:\n",
    "            print(\"Skipping %s file\" % name)"
   ]
  },
  {
   "cell_type": "code",
   "execution_count": null,
   "metadata": {},
   "outputs": [
    {
     "name": "stderr",
     "output_type": "stream",
     "text": [
      "8585it [2:15:21,  1.01s/it]"
     ]
    },
    {
     "name": "stdout",
     "output_type": "stream",
     "text": [
      "Skipping 8585.jpg file\n"
     ]
    },
    {
     "name": "stderr",
     "output_type": "stream",
     "text": [
      "8593it [2:15:30,  1.09it/s]"
     ]
    }
   ],
   "source": [
    "populate(\"colors\", names, colors, color)"
   ]
  },
  {
   "cell_type": "code",
   "execution_count": null,
   "metadata": {},
   "outputs": [],
   "source": [
    "populate(\"types\", names, types, dress)"
   ]
  }
 ],
 "metadata": {
  "kernelspec": {
   "display_name": "persona",
   "language": "python",
   "name": "persona"
  },
  "language_info": {
   "codemirror_mode": {
    "name": "ipython",
    "version": 3
   },
   "file_extension": ".py",
   "mimetype": "text/x-python",
   "name": "python",
   "nbconvert_exporter": "python",
   "pygments_lexer": "ipython3",
   "version": "3.5.2"
  }
 },
 "nbformat": 4,
 "nbformat_minor": 2
}
